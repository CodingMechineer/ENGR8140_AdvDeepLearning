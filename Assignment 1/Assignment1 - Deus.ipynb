{
  "cells": [
    {
      "cell_type": "markdown",
      "metadata": {
        "id": "-pgc5CELZsO2"
      },
      "source": [
        "#ENGR 8140 - Advanced Deep Learning & Engineering Applications\n",
        "## Assignment 1 - Gradient Descent Algorithms with PyTorch\n",
        "The following code cell is used to generate some noisy data (don't change this code).  You will need to use the data generated here to train a linear model $y=ax+b$ (i.e., Perform gradient descent on the two parameters $a$ and $b$).\n",
        "\n",
        "\n",
        "1.   You will need to code from scratch two algorithms (1) Gradient Descent + regular momentum, and (2) Adam. Use PyTorch \"autograd\" to compute gradients.\n",
        "2.   Check your results against those from the linear regression model. You can do linear regression using \"sklearn.linear_model\" (Hint: you need to convert tensor to numpy array.)\n",
        "\n",
        "\n",
        "\n",
        "\n"
      ]
    },
    {
      "cell_type": "code",
      "execution_count": 7,
      "metadata": {
        "id": "kuDFZCgdwE27"
      },
      "outputs": [],
      "source": [
        "import torch\n",
        "torch.manual_seed(42)\n",
        "x = torch.rand(100,1)\n",
        "y = 1 + 2 * x + .1 * torch.rand(100, 1)"
      ]
    },
    {
      "cell_type": "code",
      "execution_count": 8,
      "metadata": {
        "colab": {
          "base_uri": "https://localhost:8080/"
        },
        "id": "-R-1-3K7ZaSf",
        "outputId": "a4df01d7-a444-4db4-98a7-1e2916b40647"
      },
      "outputs": [
        {
          "data": {
            "text/plain": [
              "(tensor([-0.6430], requires_grad=True), tensor([0.7113], requires_grad=True))"
            ]
          },
          "execution_count": 8,
          "metadata": {},
          "output_type": "execute_result"
        }
      ],
      "source": [
        "a = torch.randn(1, requires_grad=True)\n",
        "b = torch.randn(1, requires_grad=True)\n",
        "a, b"
      ]
    },
    {
      "cell_type": "markdown",
      "metadata": {
        "id": "mJd4pArDd7c6"
      },
      "source": [
        "## Your code goes here:"
      ]
    },
    {
      "cell_type": "code",
      "execution_count": 13,
      "metadata": {
        "colab": {
          "base_uri": "https://localhost:8080/"
        },
        "id": "m4hcTpsw__Gz",
        "outputId": "f3f25387-b03a-471a-b0c4-d6cdbb97b4dd"
      },
      "outputs": [],
      "source": [
        "#Import necessary libraries\n",
        "import torch\n",
        "from torch.autograd import Variable\n",
        "\n",
        "#Generate noisy data\n",
        "torch.manual_seed(42)\n",
        "x = torch.rand(100, 1)\n",
        "y = 1 + 2 * x + 0.1 * torch.randn(100, 1)\n",
        "\n",
        "#Convert torch tensors to numpy arrays for sklearn linear regression\n",
        "x_np = x.numpy()\n",
        "y_np = y.numpy()\n",
        "\n",
        "#Linear regression using sklearn\n",
        "from sklearn.linear_model import LinearRegression\n",
        "sklearn_model = LinearRegression()\n",
        "sklearn_model.fit(x_np, y_np)\n",
        "\n",
        "#Define the linear model parameters\n",
        "a = torch.randn(1, requires_grad=True)\n",
        "b = torch.randn(1, requires_grad=True)\n",
        "\n",
        "#Hyperparameters\n",
        "learning_rate = 0.01\n",
        "momentum = 0.9\n",
        "beta1 = 0.9\n",
        "beta2 = 0.999\n",
        "epsilon = 1e-8\n",
        "m_a, m_b = 0, 0\n",
        "v_a, v_b = 0, 0\n",
        "t = 0\n"
      ]
    },
    {
      "cell_type": "code",
      "execution_count": 17,
      "metadata": {},
      "outputs": [],
      "source": [
        "#Part 1: Gradient Descent with regular momentum\n",
        "for epoch in range(1000):\n",
        "    #Forward pass\n",
        "    y_pred = a * x + b\n",
        "    loss = torch.mean((y_pred - y)**2)\n",
        "    \n",
        "\n",
        "    '''\n",
        "    Why are we interested in finding the gradient in a linear function?\n",
        "    '''\n",
        "    #Backward pass\n",
        "    loss.backward() # --> make some research on this function\n",
        "\n",
        "\n",
        "    #Update parameters using momentum\n",
        "    '''\n",
        "    Do some research on the with torch.no_grad() function\n",
        "    '''\n",
        "    with torch.no_grad():\n",
        "        m_a = momentum * m_a - learning_rate * a.grad\n",
        "        m_b = momentum * m_b - learning_rate * b.grad\n",
        "        a += m_a\n",
        "        b += m_b\n",
        "\n",
        "    #Zero gradients\n",
        "    a.grad.zero_()\n",
        "    b.grad.zero_()\n"
      ]
    },
    {
      "cell_type": "code",
      "execution_count": 15,
      "metadata": {},
      "outputs": [],
      "source": [
        "#Part 2: Adam optimizer\n",
        "for epoch in range(1000):\n",
        "    #Forward pass\n",
        "    y_pred = a * x + b\n",
        "    loss = torch.mean((y_pred - y)**2)\n",
        "\n",
        "    #Backward pass\n",
        "    loss.backward()\n",
        "\n",
        "    #Update parameters using Adam optimizer\n",
        "    with torch.no_grad():\n",
        "        t += 1\n",
        "        m_a = beta1 * m_a + (1 - beta1) * a.grad\n",
        "        m_b = beta1 * m_b + (1 - beta1) * b.grad\n",
        "        v_a = beta2 * v_a + (1 - beta2) * (a.grad**2)\n",
        "        v_b = beta2 * v_b + (1 - beta2) * (b.grad**2)\n",
        "\n",
        "        m_a_hat = m_a / (1 - beta1**t)\n",
        "        m_b_hat = m_b / (1 - beta1**t)\n",
        "        v_a_hat = v_a / (1 - beta2**t)\n",
        "        v_b_hat = v_b / (1 - beta2**t)\n",
        "\n",
        "        a -= learning_rate * m_a_hat / (torch.sqrt(v_a_hat) + epsilon)\n",
        "        b -= learning_rate * m_b_hat / (torch.sqrt(v_b_hat) + epsilon)\n",
        "\n",
        "    #Zero gradients\n",
        "    '''\n",
        "    Why do we have to zero down the gradients?\n",
        "    '''\n",
        "    a.grad.zero_()\n",
        "    b.grad.zero_()                                                                                                                                                                                                                                                                                                                                                                                                                                                                                                                                                                                                                                                                                                                                                                                                                                                                                                                                                                                                                                                                                                                                                                                                                                                                                                                                                                                                                                                                                                                                                                                                                                                                                                                                                                                                                                                                                                                                                                                                                                                                                                                                                                                                                                                                                                                                                                                                                                                                                                                                                                                                            "
      ]
    },
    {
      "cell_type": "code",
      "execution_count": 18,
      "metadata": {},
      "outputs": [
        {
          "name": "stdout",
          "output_type": "stream",
          "text": [
            "Sklearn Linear Regression Coefficients\n",
            "b: 1.0230746\n",
            "a: 1.9538239\n",
            "\n",
            "Gradient Descent with Momentum Coefficients\n",
            "b: 1.0230746269226074\n",
            "a: 1.9538242816925049\n",
            "\n",
            "Adam Optimizer Coefficients:\n",
            "b: 1.0230746269226074\n",
            "a: 1.9538242816925049\n"
          ]
        }
      ],
      "source": [
        "'''\n",
        "Plot the different results\n",
        "'''\n",
        "#Check the results using sklearn linear regression\n",
        "print(\"Sklearn Linear Regression Coefficients\")\n",
        "print(\"b:\", sklearn_model.intercept_[0])\n",
        "print(\"a:\", sklearn_model.coef_[0][0])\n",
        "\n",
        "print(\"\\nGradient Descent with Momentum Coefficients\")\n",
        "print(\"b:\", b.item())\n",
        "print(\"a:\", a.item())\n",
        "\n",
        "#The Adam optimizer coefficients\n",
        "print(\"\\nAdam Optimizer Coefficients:\")\n",
        "print(\"b:\", b.item())\n",
        "print(\"a:\", a.item())"
      ]
    },
    {
      "cell_type": "code",
      "execution_count": 10,
      "metadata": {
        "id": "3ydAI5yEDt7f"
      },
      "outputs": [
        {
          "data": {
            "image/png": "[encoded data removed]",
            "text/plain": [
              "<Figure size 640x480 with 1 Axes>"
            ]
          },
          "metadata": {},
          "output_type": "display_data"
        }
      ],
      "source": [
        "import torch\n",
        "import matplotlib.pyplot as plt\n",
        "\n",
        "# Generate some values for x\n",
        "x = torch.linspace(-10, 10, 100).reshape(-1, 1)\n",
        "\n",
        "# Calculate y using the given equation\n",
        "y = 1 + 2 * x + 0.1 * torch.randn(100, 1)\n",
        "\n",
        "# Create the plot\n",
        "plt.plot(x.numpy(), y.numpy())\n",
        "plt.xlabel('x')\n",
        "plt.ylabel('y')\n",
        "plt.title('Plot of the function')\n",
        "plt.grid(True)\n",
        "plt.show()"
      ]
    },
    {
      "cell_type": "markdown",
      "metadata": {
        "id": "8weFHKXxlSnc"
      },
      "source": []
    },
    {
      "cell_type": "code",
      "execution_count": 11,
      "metadata": {},
      "outputs": [
        {
          "name": "stdout",
          "output_type": "stream",
          "text": [
            "tensor([0.])\n"
          ]
        }
      ],
      "source": [
        "print(b.grad)"
      ]
    },
    {
      "cell_type": "code",
      "execution_count": 12,
      "metadata": {},
      "outputs": [
        {
          "data": {
            "text/plain": [
              "torch.autograd.grad_mode.no_grad"
            ]
          },
          "execution_count": 12,
          "metadata": {},
          "output_type": "execute_result"
        }
      ],
      "source": [
        "asdf = torch.no_grad()\n",
        "type(asdf)\n"
      ]
    },
    {
      "cell_type": "code",
      "execution_count": null,
      "metadata": {},
      "outputs": [],
      "source": []
    }
  ],
  "metadata": {
    "accelerator": "GPU",
    "colab": {
      "provenance": []
    },
    "kernelspec": {
      "display_name": "Python 3",
      "name": "python3"
    },
    "language_info": {
      "codemirror_mode": {
        "name": "ipython",
        "version": 3
      },
      "file_extension": ".py",
      "mimetype": "text/x-python",
      "name": "python",
      "nbconvert_exporter": "python",
      "pygments_lexer": "ipython3",
      "version": "3.11.7"
    }
  },
  "nbformat": 4,
  "nbformat_minor": 0
}
